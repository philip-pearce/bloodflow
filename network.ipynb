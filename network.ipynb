{
  "cells": [
    {
      "cell_type": "markdown",
      "metadata": {
        "id": "view-in-github",
        "colab_type": "text"
      },
      "source": [
        "<a href=\"https://colab.research.google.com/github/philip-pearce/bloodflow/blob/main/network.ipynb\" target=\"_parent\"><img src=\"https://colab.research.google.com/assets/colab-badge.svg\" alt=\"Open In Colab\"/></a>"
      ]
    },
    {
      "cell_type": "markdown",
      "metadata": {
        "id": "zi8zkeQngQr4"
      },
      "source": [
        "# **Introduction**\n",
        "\n",
        "In this mini-project, we model blood flow in a network of capillaries, and solve the equations using matrices. There are activities for beginners (e.g. high school students) and intermediate activities (e.g. for undergraduates) and more open-ended activities for advanced practitioners (e.g. advanced undergraduates and postgraduates)."
      ]
    },
    {
      "cell_type": "markdown",
      "metadata": {
        "id": "YkPnEIPsgcCl"
      },
      "source": [
        "# **Background**\n",
        "\n",
        "\n"
      ]
    },
    {
      "cell_type": "markdown",
      "metadata": {
        "id": "esXA5mclhT9w"
      },
      "source": [
        "**Modelling blood flow**\n",
        "\n",
        "The simplest model of blood flow in a capillary uses Poiseuille's law. This law states that the flow rate $Q$ of blood through a capillary is related to the pressure difference across the capillary $\\Delta P$, and the resistance of the capillary $R$, as follows:\n",
        "\n",
        "\\begin{equation}\n",
        "  Q = \\frac{\\Delta P}{R}\n",
        "\\end{equation}\n",
        "\n",
        "The vascular resistance $R$ can be calculated from the viscosity $\\mu$ of blood, the radius $H$ of the capillary, and the length $L$ of the capillary as follows:\n",
        "\n",
        "\\begin{equation}\n",
        "  R = \\frac{8 \\mu L}{\\pi H^4}\n",
        "\\end{equation}\n",
        "\n",
        "We represent a network of capillaries as a set of edges, which represent capillaries, and nodes, which represent the junctions between capillaries. We model blood flow in the network by applying *conservation of mass* at each node. This means that the amount of blood flowing into a node has to be equal to the amount of blood flowing out of that node.\n",
        "\n",
        "**Example 1**\n",
        "\n",
        "For example, consider the simple network below (you will need to run the code to generate the figure):"
      ]
    },
    {
      "cell_type": "code",
      "execution_count": 10,
      "metadata": {
        "colab": {
          "base_uri": "https://localhost:8080/",
          "height": 516
        },
        "id": "WNbSPkikn1Vf",
        "outputId": "acef40af-e653-4cc0-80b2-bf297445f8f5"
      },
      "outputs": [
        {
          "output_type": "display_data",
          "data": {
            "text/plain": [
              "<Figure size 640x480 with 1 Axes>"
            ],
            "image/png": "[encoded data removed]"
          },
          "metadata": {}
        }
      ],
      "source": [
        "import networkx as nx\n",
        "G = nx.Graph([(0,1),(1,2),(1,3)])\n",
        "pos = {0:(0,0),1:(1,0),2:(2,1),3:(2,-1)}\n",
        "nx.draw(G,pos,labels = {0:\"$P_0$\",1:\"$P_1$\",2:\"$P_2$\",3:\"$P_3$\"},node_color = (\"blue\",\"red\",\"blue\",\"blue\"), node_size=600)\n",
        "nx.draw_networkx_edge_labels(\n",
        "    G, pos,\n",
        "    edge_labels={(0, 1): '$R_{01}$',\n",
        "                 (1, 2): '$R_{12}$',\n",
        "                 (1, 3): '$R_{13}$'},\n",
        "    font_color='black'\n",
        ");"
      ]
    },
    {
      "cell_type": "markdown",
      "metadata": {
        "id": "O03qI8TXp-v-"
      },
      "source": [
        "Imagine we set at the blue nodes the inflow pressure $P_0$ and the outflow pressures $P_2$ and $P_3$. We want to calculate the pressure at the red node $P_1$.\n",
        "\n",
        "The resistances of the capillaries are given by $R_{01}$ for the capillary connecting node 0 to node 1, $R_{12}$ for the capillary connecting node 1 to node 2, and $R_{13}$ for the capillary connecting node 1 to node 3.    \n",
        "\n",
        "By Poiseuille's law, we know the flow rates into and out of node $P_1$ are:\n",
        "\n",
        "\\begin{equation}\n",
        "Q_\\text{in} = \\frac{P_0 - \\color{red}{P_1}}{R_{01}}\\\\\n",
        "Q_\\text{out} = \\frac{\\color{red}{P_1} - P_2}{R_{12}} + \\frac{\\color{red}{P_1} - P_3}{R_{13}}\n",
        "\\end{equation}\n",
        "\n",
        "Conservation of mass states that $Q_\\text{in} = Q_\\text{out}$, so that we have:\n",
        "\n",
        "\\begin{equation}\n",
        "\\frac{P_0 - \\color{red}{P_1}}{R_{01}} = \\frac{\\color{red}{P_1} - P_2}{R_{12}} + \\frac{\\color{red}{P_1} - P_3}{R_{13}}.\n",
        "\\end{equation}\n",
        "\n",
        "This equation can be solved to find $P_1$.\n",
        "\n",
        "Larger networks require us to solve an equation for each node that is not an inflow or an outflow node. This involves solving simultaneous equations, which can be done efficiently using matrices.\n",
        "\n",
        "**Example 2**\n",
        "\n",
        "Consider the larger network below:"
      ]
    },
    {
      "cell_type": "code",
      "execution_count": 12,
      "metadata": {
        "colab": {
          "base_uri": "https://localhost:8080/",
          "height": 516
        },
        "id": "OIy1PFpWhojy",
        "outputId": "575e0001-f539-43b7-e090-481b2c144dae"
      },
      "outputs": [
        {
          "output_type": "display_data",
          "data": {
            "text/plain": [
              "<Figure size 640x480 with 1 Axes>"
            ],
            "image/png": "[encoded data removed]"
          },
          "metadata": {}
        }
      ],
      "source": [
        "import networkx as nx\n",
        "G = nx.Graph([(0,1),(1,2),(1,3),(2,4),(2,5),(3,6),(3,7)])\n",
        "pos = {0:(0,0),1:(1,0),2:(2,1),3:(2,-1),4:(3,1.5),5:(3,0.5),6:(3,-0.5),7:(3,-1.5)}\n",
        "nx.draw(G,pos,labels = {0:\"$P_0$\",1:\"$P_1$\",2:\"$P_2$\",3:\"$P_3$\",4:\"$P_4$\",5:\"$P_5$\",6:\"$P_6$\",7:\"$P_7$\"},node_color = (\"blue\",\"red\",\"red\",\"red\",\"blue\",\"blue\",\"blue\",\"blue\"), node_size=600)\n",
        "nx.draw_networkx_edge_labels(\n",
        "    G, pos,\n",
        "    edge_labels={(0, 1): '$R_{01}$',\n",
        "                 (1, 2): '$R_{12}$',\n",
        "                 (1, 3): '$R_{13}$',\n",
        "                 (2, 4): '$R_{24}$',\n",
        "                 (2, 5): '$R_{25}$',\n",
        "                 (3, 6): '$R_{36}$',\n",
        "                 (3, 7): '$R_{37}$'},\n",
        "    font_color='black'\n",
        ");"
      ]
    },
    {
      "cell_type": "markdown",
      "metadata": {
        "id": "3O6NJ_Amf2LM"
      },
      "source": [
        "# **Activities**"
      ]
    },
    {
      "cell_type": "markdown",
      "metadata": {
        "id": "lYCG6wWef5SJ"
      },
      "source": [
        "**Beginner activities**\n",
        "\n",
        "1. Run the code below and inspect the output. Can you investigate how changing the resistance of each capillary affects the blood flow in the network?\n",
        "2. Do some research online or in a textbook to investigate how matrices work (e.g. addition/subtraction, multiplication). Can you explain why matrices can be used to represent simultaneous equations? Write some code in Python that can add, subtract and/or multiply matrices, to test your understanding.\n",
        "3. Continue your research to investigate how to solve simultaneous equations by inverting matrices. Write some code in Python that can solve a matrix equation.\n",
        "4. Can you edit the code below (specifically, the \"Define network topology\" section) to change the network structure? For example, can you add an extra two branching vessels at the end of the network?\n",
        "\n",
        "**Intermediate activities**\n",
        "\n",
        "1. Look up the derivation of Poiseuille's law.\n",
        "2. Edit the code below to investigate the effect of network structure.\n",
        "3. Edit the code below so that the flow rate into the network is imposed, instead of the pressure drop across the network.\n",
        "\n",
        "**Advanced activities**\n",
        "\n",
        "1. By editing the code below, investigate how network structure affects flow in the network.\n",
        "2. Do some research on power law fluids. How does the relationship between pressure drop and flow rate change for this type of fluid? Write some code to solve for flow and pressure in a network with a power law fluid. This is not possible using matrices and will require an optimisation algorithm to enforce conservation of mass at all the nodes. You could check that your code agrees with the code below in the limit that the power law fluid becomes Newtonian (when the flow behaviour index is 1).\n",
        "3. Do some research on more realistic ways to model blood flow that account for hematocrit variations in the network and their effects (e.g. plasma skimming, Fahreus-Lindqvist effect). Write some code that accounts for these effects in arbitrary networks.\n",
        "4. Think of a different interesting question about blood flow in networks and investigate it yourself - the code below might be a useful starting point.\n"
      ]
    },
    {
      "cell_type": "markdown",
      "metadata": {
        "id": "PJgO_Yfhgve2"
      },
      "source": [
        "# **Code**"
      ]
    },
    {
      "cell_type": "markdown",
      "metadata": {
        "id": "BiRMzdG5Zd-m"
      },
      "source": [
        "**Preamble**\n",
        "\n",
        "First we import the relevant Python libraries."
      ]
    },
    {
      "cell_type": "code",
      "execution_count": null,
      "metadata": {
        "id": "RILXCpcFZ15Y"
      },
      "outputs": [],
      "source": [
        "import numpy as np\n",
        "import networkx as nx"
      ]
    },
    {
      "cell_type": "markdown",
      "metadata": {
        "id": "Te2ELWfdZleu"
      },
      "source": [
        "**Define network topology**\n",
        "\n",
        "The variables alpha and beta each contain a list of nodes. Each node in alpha connects to the corresponding node in beta to make an edge. For example, if alpha = [0,1,1] and beta = [1,2,3], then we have the following edges: [0,1], [1,2], [1,3].\n",
        "\n",
        "We also specify the inlet nodes and the outlet nodes. These should cover all nodes that only connect to one other node. e.g. in the example above, we could specify that node 0 is an inlet node, and that nodes 2 and 3 are outlet nodes."
      ]
    },
    {
      "cell_type": "code",
      "execution_count": null,
      "metadata": {
        "colab": {
          "background_save": true
        },
        "id": "L9P-2F-nZ_IA"
      },
      "outputs": [],
      "source": [
        "#upstream node IDs\n",
        "alpha = np.array([0,1,1]);\n",
        "#downstream node IDs\n",
        "beta = np.array([1,2,3]);\n",
        "#boundary nodes\n",
        "inlet_nodes = np.array([0]);\n",
        "outlet_nodes = np.array([2,3]);\n",
        "#Number of nodes\n",
        "N = np.amax([alpha,beta])+1;\n",
        "#Number of edges\n",
        "E = np.size(alpha)"
      ]
    },
    {
      "cell_type": "markdown",
      "metadata": {
        "id": "far8xYJhaDL0"
      },
      "source": [
        "**Define parameters**\n",
        "\n",
        "Here define the input pressure and the resistances of each edge."
      ]
    },
    {
      "cell_type": "code",
      "execution_count": null,
      "metadata": {
        "colab": {
          "background_save": true
        },
        "id": "3juGY6M1aFpq"
      },
      "outputs": [],
      "source": [
        "Pin = 1;\n",
        "#Input resistances\n",
        "R = a = np.ones((N,1),dtype='float32') #define as float to allow negative powers later"
      ]
    },
    {
      "cell_type": "markdown",
      "metadata": {
        "id": "DU8DljGbamzK"
      },
      "source": [
        "**Construct matricers**\n",
        "\n",
        "Here is the important bit - constructing the matrices to solve for the pressures. This shouldn't need to be changed if the network structure changes (within certain constraints)."
      ]
    },
    {
      "cell_type": "code",
      "execution_count": null,
      "metadata": {
        "colab": {
          "background_save": true
        },
        "id": "3m6tXxrhaKRZ"
      },
      "outputs": [],
      "source": [
        "#-----Initialise matrices to solve for pressures later-----#\n",
        "A = np.identity(N);\n",
        "a = np.zeros((N,1));\n",
        "\n",
        "#-----Construct matrices to solve for pressures-----#\n",
        "for i in range(0,N):\n",
        "    #ignore outlets\n",
        "    if i in outlet_nodes:\n",
        "      continue\n",
        "    #ignore inlets and set input pressure\n",
        "    if i in inlet_nodes:\n",
        "      a[i,0] = Pin;\n",
        "      continue\n",
        "    #find nodes that connect to node i\n",
        "    ii = np.where(alpha == i)[0] #downstream nodes\n",
        "    jj = np.where(beta == i)[0] #upstream nodes\n",
        "    #sum of inverse of connecting resistances\n",
        "    K = np.sum(np.power(R[ii],-1)) + np.sum(np.power(R[jj],-1))\n",
        "    #K=sum(R(ii).^(-1))+sum(R(c2).^(-1));\n",
        "    for j in ii:\n",
        "      A[i,beta[j]]=-np.power(R[j],-1)/K;\n",
        "    for j in jj:\n",
        "      A[i,alpha[j]]=-np.power(R[j],-1)/K;"
      ]
    },
    {
      "cell_type": "markdown",
      "metadata": {
        "id": "D6iIqMccaMMD"
      },
      "source": [
        "**Solve for pressures**\n",
        "\n",
        "Now that the matrices have been constructed, all we need to do is solve the matrix equation for the pressures."
      ]
    },
    {
      "cell_type": "code",
      "execution_count": null,
      "metadata": {
        "colab": {
          "background_save": true
        },
        "id": "YjsG8dheaPF-"
      },
      "outputs": [],
      "source": [
        "#-----Solve for pressures-----#\n",
        "p = np.linalg.solve(A, a)"
      ]
    },
    {
      "cell_type": "markdown",
      "metadata": {
        "id": "1sIr0JghaP21"
      },
      "source": [
        "**Plotting**\n",
        "\n",
        "Finally, we plot a simple visualisation of the graph with pressures labelled at the nodes. We do this using networkx (https://networkx.org/). Note that we convert the solution variable p to a dictionary that gives the pressure at each node."
      ]
    },
    {
      "cell_type": "code",
      "execution_count": null,
      "metadata": {
        "colab": {
          "background_save": true,
          "base_uri": "https://localhost:8080/",
          "height": 516
        },
        "id": "3SSt1DIw-iZE",
        "outputId": "4dbcd243-0f68-4e0e-d49e-201fda574993"
      },
      "outputs": [
        {
          "data": {
            "image/png": "[encoded data removed]",
            "text/plain": [
              "<Figure size 640x480 with 1 Axes>"
            ]
          },
          "metadata": {},
          "output_type": "display_data"
        }
      ],
      "source": [
        "#Initialise graph\n",
        "G = nx.Graph()\n",
        "#Construct graph\n",
        "for i in range(0,E):\n",
        "  G.add_edge(alpha[i],beta[i])\n",
        "#Plot graph\n",
        "nx.draw(G,labels=dict(zip(range(0,N),tuple(p.reshape(1, -1)[0]))))"
      ]
    }
  ],
  "metadata": {
    "colab": {
      "provenance": [],
      "authorship_tag": "ABX9TyPwhwLGgW7k2OFwGU2dK3dK",
      "include_colab_link": true
    },
    "kernelspec": {
      "display_name": "Python 3",
      "name": "python3"
    },
    "language_info": {
      "name": "python"
    }
  },
  "nbformat": 4,
  "nbformat_minor": 0
}